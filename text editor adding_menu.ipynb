{
 "cells": [
  {
   "cell_type": "code",
   "execution_count": 9,
   "metadata": {},
   "outputs": [],
   "source": [
    "from tkinter import *\n",
    "\n",
    "class text_editor:\n",
    "    def __init__(self,master):\n",
    "        master.title('textpad')\n",
    "        self.text_area=Text()\n",
    "        self.text_area.pack(fill=BOTH,expand=1)\n",
    "\n",
    "root=Tk()\n",
    "\n",
    "te=text_editor(root)\n",
    "root.mainloop()"
   ]
  },
  {
   "cell_type": "code",
   "execution_count": 13,
   "metadata": {},
   "outputs": [],
   "source": [
    "from tkinter import *\n",
    "\n",
    "class text_editor:\n",
    "    def __init__(self,master):\n",
    "        self.master=master\n",
    "        master.title('textpad')\n",
    "        self.text_area=Text()\n",
    "        self.text_area.pack(fill=BOTH,expand=1)\n",
    "        self.main_menu=Menu()\n",
    "        self.master.config(menu=self.main_menu)\n",
    "        \n",
    "        #creating filemenu\n",
    "        self.file_menu=Menu(self.main_menu)\n",
    "        self.main_menu.add_cascade(label='File',menu=self.file_menu)\n",
    "        \n",
    "        #creating editmenu\n",
    "        self.edit_menu=Menu(self.main_menu)\n",
    "        self.main_menu.add_cascade(label='Edit',menu=self.edit_menu)\n",
    "        \n",
    "\n",
    "root=Tk()\n",
    "\n",
    "te=text_editor(root)\n",
    "root.mainloop()"
   ]
  },
  {
   "cell_type": "code",
   "execution_count": null,
   "metadata": {},
   "outputs": [],
   "source": []
  }
 ],
 "metadata": {
  "kernelspec": {
   "display_name": "Python 3",
   "language": "python",
   "name": "python3"
  },
  "language_info": {
   "codemirror_mode": {
    "name": "ipython",
    "version": 3
   },
   "file_extension": ".py",
   "mimetype": "text/x-python",
   "name": "python",
   "nbconvert_exporter": "python",
   "pygments_lexer": "ipython3",
   "version": "3.8.5"
  }
 },
 "nbformat": 4,
 "nbformat_minor": 4
}
