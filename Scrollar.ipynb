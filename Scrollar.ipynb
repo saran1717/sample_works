{
 "cells": [
  {
   "cell_type": "code",
   "execution_count": null,
   "metadata": {},
   "outputs": [],
   "source": [
    "from tkinter import *\n",
    "\n",
    "root=Tk()\n",
    "frame=Frame(root)\n",
    "scroll=Scrollbar(frame)\n",
    "scroll.pack(side=RIGHT,fill=Y)\n",
    "\n",
    "listbox=Listbox(frame,yscrollcommand=scroll.set)\n",
    "for i in range(1,100):\n",
    "    listbox.insert(END,'List'+str(i))\n",
    "listbox.pack(side=LEFT)\n",
    "scroll.config(command=listbox.yview)\n",
    "root.geometry('300x300+150+150')\n",
    "frame.pack()\n",
    "root.mainloop()"
   ]
  },
  {
   "cell_type": "code",
   "execution_count": null,
   "metadata": {},
   "outputs": [],
   "source": []
  }
 ],
 "metadata": {
  "kernelspec": {
   "display_name": "Python 3",
   "language": "python",
   "name": "python3"
  },
  "language_info": {
   "codemirror_mode": {
    "name": "ipython",
    "version": 3
   },
   "file_extension": ".py",
   "mimetype": "text/x-python",
   "name": "python",
   "nbconvert_exporter": "python",
   "pygments_lexer": "ipython3",
   "version": "3.8.5"
  }
 },
 "nbformat": 4,
 "nbformat_minor": 4
}
