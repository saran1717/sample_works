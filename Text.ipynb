{
 "cells": [
  {
   "cell_type": "code",
   "execution_count": 10,
   "metadata": {},
   "outputs": [],
   "source": [
    "from tkinter import *\n",
    "\n",
    "def print_me():\n",
    "    result=text.selection_get()\n",
    "    pos=text.search(result,1.0,stopindex=END)\n",
    "    print(pos)\n",
    "    print(result)\n",
    "root=Tk()\n",
    "\n",
    "text=Text(root,width=20,height=10,wrap=WORD,padx=5,pady=5,bd=3,selectbackground='blue')\n",
    "text.pack()\n",
    "\n",
    "button=Button(root,text='print me',command=print_me).pack()\n",
    "text.insert(INSERT,'hello I am Saran')\n",
    "root.geometry('300x300+150+150')\n",
    "root.mainloop()"
   ]
  },
  {
   "cell_type": "code",
   "execution_count": 11,
   "metadata": {},
   "outputs": [],
   "source": [
    "from tkinter import *\n",
    "\n",
    "def print_me():\n",
    "    text.delete(1.0,END)\n",
    "root=Tk()\n",
    "\n",
    "text=Text(root,width=20,height=10,wrap=WORD,padx=5,pady=5,bd=3,selectbackground='blue')\n",
    "text.pack()\n",
    "\n",
    "button=Button(root,text='clear',command=print_me).pack()\n",
    "text.insert(INSERT,'hello I am Saran')\n",
    "root.geometry('300x300+150+150')\n",
    "root.mainloop()"
   ]
  },
  {
   "cell_type": "code",
   "execution_count": null,
   "metadata": {},
   "outputs": [],
   "source": []
  }
 ],
 "metadata": {
  "kernelspec": {
   "display_name": "Python 3",
   "language": "python",
   "name": "python3"
  },
  "language_info": {
   "codemirror_mode": {
    "name": "ipython",
    "version": 3
   },
   "file_extension": ".py",
   "mimetype": "text/x-python",
   "name": "python",
   "nbconvert_exporter": "python",
   "pygments_lexer": "ipython3",
   "version": "3.8.5"
  }
 },
 "nbformat": 4,
 "nbformat_minor": 4
}
