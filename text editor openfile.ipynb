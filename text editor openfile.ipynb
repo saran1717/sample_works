{
 "cells": [
  {
   "cell_type": "code",
   "execution_count": 12,
   "metadata": {},
   "outputs": [],
   "source": [
    "from tkinter import *\n",
    "from tkinter import filedialog\n",
    "\n",
    "class text_editor:\n",
    "    \n",
    "    def open_file(self):\n",
    "        \n",
    "        open_return=filedialog.askopenfile(initialdir='/',title='slect file to open',filetypes=(('text files','*.txt'),('all files','*.*')))\n",
    "        if(open_return !=None)\n",
    "        \n",
    "        self.text_area.delete(1.0,END)\n",
    "        \n",
    "        for line in open_return:\n",
    "            self.text_area.insert(END,line)\n",
    "    \n",
    "    \n",
    "    def __init__(self,master):\n",
    "        self.master=master\n",
    "        master.title('textpad')\n",
    "        self.text_area=Text()\n",
    "        self.text_area.pack(fill=BOTH,expand=1)\n",
    "        self.main_menu=Menu()\n",
    "        self.master.config(menu=self.main_menu)\n",
    "        \n",
    "        #creating filemenu\n",
    "        self.file_menu=Menu(self.main_menu)\n",
    "        self.main_menu.add_cascade(label='File',menu=self.file_menu)\n",
    "        self.main_menu.add_command(label='open',command=self.open_file)\n",
    "        \n",
    "        #creating editmenu\n",
    "        self.edit_menu=Menu(self.main_menu)\n",
    "        self.main_menu.add_cascade(label='Edit',menu=self.edit_menu)\n",
    "        \n",
    "root=Tk()\n",
    "\n",
    "te=text_editor(root)\n",
    "root.mainloop()"
   ]
  },
  {
   "cell_type": "code",
   "execution_count": null,
   "metadata": {},
   "outputs": [],
   "source": []
  }
 ],
 "metadata": {
  "kernelspec": {
   "display_name": "Python 3",
   "language": "python",
   "name": "python3"
  },
  "language_info": {
   "codemirror_mode": {
    "name": "ipython",
    "version": 3
   },
   "file_extension": ".py",
   "mimetype": "text/x-python",
   "name": "python",
   "nbconvert_exporter": "python",
   "pygments_lexer": "ipython3",
   "version": "3.8.5"
  }
 },
 "nbformat": 4,
 "nbformat_minor": 4
}
