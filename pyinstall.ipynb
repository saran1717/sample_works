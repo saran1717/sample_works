{
 "cells": [
  {
   "cell_type": "code",
   "execution_count": 1,
   "metadata": {},
   "outputs": [
    {
     "name": "stdout",
     "output_type": "stream",
     "text": [
      "Requirement already satisfied: pyinstaller in c:\\users\\lenovo\\anaconda3\\lib\\site-packages (4.2)\n",
      "Requirement already satisfied: pywin32-ctypes>=0.2.0; sys_platform == \"win32\" in c:\\users\\lenovo\\anaconda3\\lib\\site-packages (from pyinstaller) (0.2.0)\n",
      "Requirement already satisfied: setuptools in c:\\users\\lenovo\\anaconda3\\lib\\site-packages (from pyinstaller) (50.3.1.post20201107)\n",
      "Requirement already satisfied: altgraph in c:\\users\\lenovo\\anaconda3\\lib\\site-packages (from pyinstaller) (0.17)\n",
      "Requirement already satisfied: pyinstaller-hooks-contrib>=2020.6 in c:\\users\\lenovo\\anaconda3\\lib\\site-packages (from pyinstaller) (2021.1)\n",
      "Requirement already satisfied: pefile>=2017.8.1; sys_platform == \"win32\" in c:\\users\\lenovo\\anaconda3\\lib\\site-packages (from pyinstaller) (2019.4.18)\n",
      "Requirement already satisfied: future in c:\\users\\lenovo\\anaconda3\\lib\\site-packages (from pefile>=2017.8.1; sys_platform == \"win32\"->pyinstaller) (0.18.2)\n",
      "Note: you may need to restart the kernel to use updated packages.\n"
     ]
    }
   ],
   "source": [
    "pip install pyinstaller"
   ]
  },
  {
   "cell_type": "code",
   "execution_count": null,
   "metadata": {},
   "outputs": [],
   "source": []
  }
 ],
 "metadata": {
  "kernelspec": {
   "display_name": "Python 3",
   "language": "python",
   "name": "python3"
  },
  "language_info": {
   "codemirror_mode": {
    "name": "ipython",
    "version": 3
   },
   "file_extension": ".py",
   "mimetype": "text/x-python",
   "name": "python",
   "nbconvert_exporter": "python",
   "pygments_lexer": "ipython3",
   "version": "3.8.5"
  }
 },
 "nbformat": 4,
 "nbformat_minor": 4
}
