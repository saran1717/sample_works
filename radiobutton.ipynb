{
 "cells": [
  {
   "cell_type": "code",
   "execution_count": 6,
   "metadata": {},
   "outputs": [
    {
     "name": "stdout",
     "output_type": "stream",
     "text": [
      "you are female\n"
     ]
    }
   ],
   "source": [
    "from tkinter import *\n",
    "\n",
    "def click_me():\n",
    "    if(i.get()==1):\n",
    "        print('you are male')\n",
    "    else:\n",
    "        print('you are female')\n",
    "root=Tk()\n",
    "i=StringVar()\n",
    "r1=Radiobutton(root,text='male',value='radio1',variable=i)\n",
    "r2=Radiobutton(root,text='female',value='radio2',variable=i)\n",
    "r1.pack()\n",
    "r2.pack()\n",
    "\n",
    "button=Button(root,text='check',command=click_me)\n",
    "button.pack()\n",
    "root.geometry('300x300+120+120')\n",
    "root.mainloop()"
   ]
  },
  {
   "cell_type": "code",
   "execution_count": 10,
   "metadata": {},
   "outputs": [],
   "source": [
    "from tkinter import *\n",
    "\n",
    "root=Tk()\n",
    "l=Listbox(root,width=20,height=15,selectmode=EXTENDED)\n",
    "l.insert(1,'C++')\n",
    "l.insert(2,'python')\n",
    "\n",
    "l.pack()\n",
    "root.geometry('300x300+120+120')\n",
    "root.mainloop()"
   ]
  },
  {
   "cell_type": "code",
   "execution_count": null,
   "metadata": {},
   "outputs": [],
   "source": []
  }
 ],
 "metadata": {
  "kernelspec": {
   "display_name": "Python 3",
   "language": "python",
   "name": "python3"
  },
  "language_info": {
   "codemirror_mode": {
    "name": "ipython",
    "version": 3
   },
   "file_extension": ".py",
   "mimetype": "text/x-python",
   "name": "python",
   "nbconvert_exporter": "python",
   "pygments_lexer": "ipython3",
   "version": "3.8.5"
  }
 },
 "nbformat": 4,
 "nbformat_minor": 4
}
