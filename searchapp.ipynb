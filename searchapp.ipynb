{
 "cells": [
  {
   "cell_type": "code",
   "execution_count": 5,
   "metadata": {},
   "outputs": [],
   "source": [
    "from tkinter import *\n",
    "\n",
    "root= Tk()\n",
    "\n",
    "topframe=Frame(root)\n",
    "entry=Entry(topframe)\n",
    "entry.pack()\n",
    "\n",
    "button=Button(topframe,text='search')\n",
    "button.pack()\n",
    "\n",
    "topframe.pack(side=TOP)\n",
    "\n",
    "bottomframe=Frame(root)\n",
    "scroll=Scrollbar(bottomframe)\n",
    "scroll.pack(side=RIGHT,fill=Y)\n",
    "answer=Text(bottomframe,width=30,height=10,yscrollcommand=scroll.set)\n",
    "answer.pack()\n",
    "scroll.config(command=answer.yview)\n",
    "\n",
    "bottomframe.pack(side=BOTTOM)\n",
    "\n",
    "root.mainloop()"
   ]
  },
  {
   "cell_type": "code",
   "execution_count": null,
   "metadata": {},
   "outputs": [],
   "source": []
  }
 ],
 "metadata": {
  "kernelspec": {
   "display_name": "Python 3",
   "language": "python",
   "name": "python3"
  },
  "language_info": {
   "codemirror_mode": {
    "name": "ipython",
    "version": 3
   },
   "file_extension": ".py",
   "mimetype": "text/x-python",
   "name": "python",
   "nbconvert_exporter": "python",
   "pygments_lexer": "ipython3",
   "version": "3.8.5"
  }
 },
 "nbformat": 4,
 "nbformat_minor": 4
}
