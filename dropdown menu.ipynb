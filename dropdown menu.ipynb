{
 "cells": [
  {
   "cell_type": "code",
   "execution_count": 7,
   "metadata": {},
   "outputs": [],
   "source": [
    "from tkinter import *\n",
    "\n",
    "def do_nothing():\n",
    "    print('ok i wont')\n",
    "\n",
    "root=Tk()\n",
    "main_menu=Menu(root)\n",
    "root.config(menu=main_menu)\n",
    "\n",
    "#creating filemenu\n",
    "fileMenu=Menu(main_menu)\n",
    "main_menu.add_cascade(label='file',menu=fileMenu)\n",
    "\n",
    "#editmenu\n",
    "editMenu=Menu(main_menu)\n",
    "main_menu.add_cascade(label='edit',menu=fileMenu)\n",
    "\n",
    "fileMenu.add_command(label='newproject',command=do_nothing)\n",
    "fileMenu.add_command(label='newscratchfile',command=do_nothing)\n",
    "fileMenu.add_separator()\n",
    "fileMenu.add_command(label='open',command=do_nothing)\n",
    "fileMenu.add_command(label='saveas',command=do_nothing)\n",
    "\n",
    "\n",
    "root.mainloop()"
   ]
  },
  {
   "cell_type": "code",
   "execution_count": null,
   "metadata": {},
   "outputs": [],
   "source": []
  }
 ],
 "metadata": {
  "kernelspec": {
   "display_name": "Python 3",
   "language": "python",
   "name": "python3"
  },
  "language_info": {
   "codemirror_mode": {
    "name": "ipython",
    "version": 3
   },
   "file_extension": ".py",
   "mimetype": "text/x-python",
   "name": "python",
   "nbconvert_exporter": "python",
   "pygments_lexer": "ipython3",
   "version": "3.8.5"
  }
 },
 "nbformat": 4,
 "nbformat_minor": 4
}
