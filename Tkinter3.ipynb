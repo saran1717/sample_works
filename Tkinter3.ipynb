{
 "cells": [
  {
   "cell_type": "code",
   "execution_count": 1,
   "metadata": {},
   "outputs": [],
   "source": [
    "import tkinter as a\n",
    "r=a.Tk()\n",
    "r.title('creating a text')\n",
    "button=a.Button(r,text='stop',width=25,command=r.destroy)\n",
    "button.pack()\n",
    "r.mainloop()"
   ]
  },
  {
   "cell_type": "code",
   "execution_count": 2,
   "metadata": {},
   "outputs": [],
   "source": [
    "from tkinter import *\n",
    "master=Tk()\n",
    "e1=Entry(master)\n",
    "e1.grid(row=2,column=4)\n",
    "mainloop()"
   ]
  },
  {
   "cell_type": "code",
   "execution_count": 11,
   "metadata": {},
   "outputs": [],
   "source": [
    "from tkinter import *\n",
    "master=Tk()\n",
    "Label(master, text='enter a number').grid(row=5)\n",
    "mainloop()"
   ]
  },
  {
   "cell_type": "code",
   "execution_count": 15,
   "metadata": {},
   "outputs": [],
   "source": [
    "from tkinter import *\n",
    "master=Tk()\n",
    "w=Message(master,text='goodmorning')\n",
    "w.config(bg='red')\n",
    "w.pack()\n",
    "mainloop()"
   ]
  },
  {
   "cell_type": "code",
   "execution_count": 16,
   "metadata": {},
   "outputs": [],
   "source": [
    "from tkinter import *\n",
    "w=Tk()\n",
    "T=Text(w,height=10,width=20)\n",
    "T.insert(END,'gudmrng\\npython gui programing')\n",
    "T.pack()\n",
    "mainloop()"
   ]
  },
  {
   "cell_type": "code",
   "execution_count": 17,
   "metadata": {},
   "outputs": [],
   "source": [
    "from tkinter import *\n",
    "w=Tk()\n",
    "v=IntVar()\n",
    "Radiobutton(w,text='male',variable=v,value=1).pack(anchor=W)\n",
    "Radiobutton(w,text='female',variable=v,value=2).pack(anchor=W)\n",
    "mainloop()"
   ]
  },
  {
   "cell_type": "code",
   "execution_count": 4,
   "metadata": {},
   "outputs": [],
   "source": [
    "from tkinter import *\n",
    "w=Tk()\n",
    "var1=IntVar()\n",
    "Checkbutton(w,text='sslc',variable=var1).grid(row=0,sticky=W)\n",
    "var2=IntVar()\n",
    "Checkbutton(w,text='plustwo',variable=var2).grid(row=2,sticky=W)\n",
    "var3=IntVar()\n",
    "Checkbutton(w,text='degree',variable=var3).grid(row=4,sticky=W)\n",
    "mainloop()\n"
   ]
  },
  {
   "cell_type": "code",
   "execution_count": 5,
   "metadata": {},
   "outputs": [],
   "source": [
    "from tkinter import *\n",
    "top=Tk()\n",
    "Lb=Listbox(top)\n",
    "Lb.insert(1,'apple')\n",
    "Lb.insert(2,'banana')\n",
    "Lb.insert(3,'guava')\n",
    "Lb.pack()\n",
    "mainloop()"
   ]
  },
  {
   "cell_type": "code",
   "execution_count": null,
   "metadata": {},
   "outputs": [],
   "source": []
  }
 ],
 "metadata": {
  "kernelspec": {
   "display_name": "Python 3",
   "language": "python",
   "name": "python3"
  },
  "language_info": {
   "codemirror_mode": {
    "name": "ipython",
    "version": 3
   },
   "file_extension": ".py",
   "mimetype": "text/x-python",
   "name": "python",
   "nbconvert_exporter": "python",
   "pygments_lexer": "ipython3",
   "version": "3.8.5"
  }
 },
 "nbformat": 4,
 "nbformat_minor": 4
}
