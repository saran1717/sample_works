{
 "cells": [
  {
   "cell_type": "code",
   "execution_count": 2,
   "metadata": {},
   "outputs": [],
   "source": [
    "from tkinter import *\n",
    "\n",
    "\n",
    "def open_window():\n",
    "    top=Toplevel()\n",
    "    top.title=('top window')\n",
    "    top.geometry('300x300+120+120')\n",
    "    button1=Button(top,text='close',command=top.quit)\n",
    "    button1.pack()\n",
    "\n",
    "root=Tk()\n",
    "button=Button(root,text='open window',command=open_window)\n",
    "button.pack()\n",
    "    \n",
    "    \n",
    "root.geometry(\"300x300+120+120\")\n",
    "root.mainloop()"
   ]
  },
  {
   "cell_type": "code",
   "execution_count": null,
   "metadata": {},
   "outputs": [],
   "source": []
  }
 ],
 "metadata": {
  "kernelspec": {
   "display_name": "Python 3",
   "language": "python",
   "name": "python3"
  },
  "language_info": {
   "codemirror_mode": {
    "name": "ipython",
    "version": 3
   },
   "file_extension": ".py",
   "mimetype": "text/x-python",
   "name": "python",
   "nbconvert_exporter": "python",
   "pygments_lexer": "ipython3",
   "version": "3.8.5"
  }
 },
 "nbformat": 4,
 "nbformat_minor": 4
}
