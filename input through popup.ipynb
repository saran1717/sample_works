{
 "cells": [
  {
   "cell_type": "code",
   "execution_count": 4,
   "metadata": {},
   "outputs": [
    {
     "name": "stdout",
     "output_type": "stream",
     "text": [
      "saran\n"
     ]
    }
   ],
   "source": [
    "from tkinter import *\n",
    "from tkinter import simpledialog\n",
    "\n",
    "def get_me():\n",
    "    s=simpledialog.askstring('input string','please enter your name')\n",
    "    print(s)\n",
    "root=Tk()\n",
    "button=Button(root,text='popup',command=get_me)\n",
    "button.pack()\n",
    "\n",
    "root.geometry('300x300')\n",
    "root.mainloop()"
   ]
  },
  {
   "cell_type": "code",
   "execution_count": 8,
   "metadata": {},
   "outputs": [],
   "source": [
    "from tkinter import *\n",
    "\n",
    "\n",
    "root=Tk()\n",
    "\n",
    "s=Scale(root,from_=0,to=100,orient=HORIZONTAL,length=200,width=10)\n",
    "s.set(50)\n",
    "s.pack()\n",
    "\n",
    "\n",
    "root.geometry('400x400')\n",
    "root.mainloop()"
   ]
  },
  {
   "cell_type": "code",
   "execution_count": null,
   "metadata": {},
   "outputs": [],
   "source": []
  }
 ],
 "metadata": {
  "kernelspec": {
   "display_name": "Python 3",
   "language": "python",
   "name": "python3"
  },
  "language_info": {
   "codemirror_mode": {
    "name": "ipython",
    "version": 3
   },
   "file_extension": ".py",
   "mimetype": "text/x-python",
   "name": "python",
   "nbconvert_exporter": "python",
   "pygments_lexer": "ipython3",
   "version": "3.8.5"
  }
 },
 "nbformat": 4,
 "nbformat_minor": 4
}
