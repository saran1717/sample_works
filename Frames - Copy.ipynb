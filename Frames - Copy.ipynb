{
 "cells": [
  {
   "cell_type": "code",
   "execution_count": 23,
   "metadata": {},
   "outputs": [],
   "source": [
    "from tkinter import *\n",
    "root=Tk()\n",
    "root.mainloop()"
   ]
  },
  {
   "cell_type": "code",
   "execution_count": 25,
   "metadata": {},
   "outputs": [],
   "source": [
    "from tkinter import *\n",
    "root=Tk()\n",
    "box=Button(text='hai')\n",
    "box.pack()\n",
    "root.mainloop()"
   ]
  },
  {
   "cell_type": "code",
   "execution_count": 24,
   "metadata": {},
   "outputs": [],
   "source": [
    "from tkinter import *\n",
    "root=Tk()\n",
    "frame=Frame(root)\n",
    "frame.pack()\n",
    "root.mainloop()"
   ]
  },
  {
   "cell_type": "code",
   "execution_count": 52,
   "metadata": {},
   "outputs": [],
   "source": [
    "from tkinter import *\n",
    "root=Tk()\n",
    "box1=Button(root,text='hai')\n",
    "box2=Button(root,text='hello')\n",
    "box3=Button(root,text='how are you')\n",
    "box4=Button(root,text='gudmrng')\n",
    "box1.pack(side=LEFT)\n",
    "box2.pack(side=LEFT)\n",
    "box3.pack(side=LEFT)\n",
    "box4.pack(side=BOTTOM)\n",
    "root.mainloop()"
   ]
  },
  {
   "cell_type": "code",
   "execution_count": 42,
   "metadata": {},
   "outputs": [],
   "source": [
    "from tkinter import *\n",
    "root=Tk()\n",
    "frame=Frame(root)\n",
    "box1=Button(frame,text='hai')\n",
    "box2=Button(frame,text='hello')\n",
    "box3=Button(frame,text='how are you')\n",
    "bottomframe=Button(frame,text='gudmrng')\n",
    "box1.pack(side=LEFT)\n",
    "box2.pack(side=LEFT)\n",
    "box3.pack(side=LEFT)\n",
    "bottomframe.pack(side=BOTTOM)\n",
    "frame.pack()\n",
    "root.mainloop()"
   ]
  },
  {
   "cell_type": "code",
   "execution_count": 51,
   "metadata": {},
   "outputs": [],
   "source": [
    "from tkinter import *\n",
    "root=Tk()\n",
    "frame=Frame(root)\n",
    "box1=Button(frame,text='hai')\n",
    "box2=Button(frame,text='hello')\n",
    "box3=Button(frame,text='how are you')\n",
    "\n",
    "box1.pack(side=LEFT)\n",
    "box2.pack(side=LEFT)\n",
    "box3.pack(side=LEFT)\n",
    "frame.pack()\n",
    "\n",
    "bottomframe=Frame(root)\n",
    "box4=Button(bottomframe,text='gudmrng')\n",
    "box4.pack()\n",
    "bottomframe.pack(side=BOTTOM)\n",
    "\n",
    "root.mainloop()"
   ]
  },
  {
   "cell_type": "code",
   "execution_count": 71,
   "metadata": {},
   "outputs": [],
   "source": [
    "from tkinter import *\n",
    "root=Tk()\n",
    "one=Label(root,text='hai',bg='orange')\n",
    "two=Label(root,text='nice',bg='green')\n",
    "three=Label(root,text='shirt',bg='yellow')\n",
    "one.pack(fill=Y)\n",
    "two.pack(side=LEFT)\n",
    "three.pack(fill=X,side=RIGHT)\n",
    "root.mainloop()"
   ]
  },
  {
   "cell_type": "code",
   "execution_count": 63,
   "metadata": {},
   "outputs": [],
   "source": [
    "from tkinter import *\n",
    "root=Tk()\n",
    "\n",
    "frame=Frame(root)\n",
    "one=Label(root,text='hai',bg='blue')\n",
    "two=Label(root,text='nice',bg='green')\n",
    "three=Label(root,text='shirt',bg='yellow')\n",
    "one.pack()\n",
    "two.pack()\n",
    "three.pack()\n",
    "frame.pack()\n",
    "\n",
    "buttonframe=Frame(root)\n",
    "box=Button(buttonframe,text='thanks')\n",
    "box.pack()\n",
    "buttonframe.pack(side=BOTTOM)\n",
    "\n",
    "root.mainloop()"
   ]
  },
  {
   "cell_type": "code",
   "execution_count": null,
   "metadata": {},
   "outputs": [],
   "source": []
  }
 ],
 "metadata": {
  "kernelspec": {
   "display_name": "Python 3",
   "language": "python",
   "name": "python3"
  },
  "language_info": {
   "codemirror_mode": {
    "name": "ipython",
    "version": 3
   },
   "file_extension": ".py",
   "mimetype": "text/x-python",
   "name": "python",
   "nbconvert_exporter": "python",
   "pygments_lexer": "ipython3",
   "version": "3.8.5"
  }
 },
 "nbformat": 4,
 "nbformat_minor": 4
}
