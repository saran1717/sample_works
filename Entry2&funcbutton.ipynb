{
 "cells": [
  {
   "cell_type": "code",
   "execution_count": 8,
   "metadata": {},
   "outputs": [],
   "source": [
    "from tkinter import *\n",
    "root=Tk()\n",
    "\n",
    "name=Label(root,text='name')\n",
    "password=Label(root,text='password')\n",
    "\n",
    "entry1=Entry(root)\n",
    "entry2=Entry(root)\n",
    "\n",
    "name.grid(row=0,sticky=E)\n",
    "entry1.grid(row=0,column=1)\n",
    "\n",
    "password.grid(row=1,column=0)\n",
    "entry2.grid(row=1,column=1)\n",
    "\n",
    "c=Checkbutton(root,text='keep me logged in')\n",
    "c.grid(columnspan=2)\n",
    "\n",
    "root.mainloop()"
   ]
  },
  {
   "cell_type": "code",
   "execution_count": 16,
   "metadata": {},
   "outputs": [
    {
     "name": "stdout",
     "output_type": "stream",
     "text": [
      "i am called\n"
     ]
    }
   ],
   "source": [
    "from tkinter import *\n",
    "root=Tk()\n",
    "\n",
    "def call_me():\n",
    "    print('i am called')\n",
    "box=Button(root,text='hai',command=call_me)\n",
    "box.pack()\n",
    "root.mainloop()"
   ]
  },
  {
   "cell_type": "code",
   "execution_count": null,
   "metadata": {},
   "outputs": [],
   "source": []
  }
 ],
 "metadata": {
  "kernelspec": {
   "display_name": "Python 3",
   "language": "python",
   "name": "python3"
  },
  "language_info": {
   "codemirror_mode": {
    "name": "ipython",
    "version": 3
   },
   "file_extension": ".py",
   "mimetype": "text/x-python",
   "name": "python",
   "nbconvert_exporter": "python",
   "pygments_lexer": "ipython3",
   "version": "3.8.5"
  }
 },
 "nbformat": 4,
 "nbformat_minor": 4
}
