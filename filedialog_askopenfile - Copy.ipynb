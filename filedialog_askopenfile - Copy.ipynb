{
 "cells": [
  {
   "cell_type": "code",
   "execution_count": 1,
   "metadata": {},
   "outputs": [],
   "source": [
    "from tkinter import *\n",
    "from tkinter import filedialog\n",
    "def open_file():\n",
    "    result=filedialog.askopenfile(initialdir='/',title='selectfile',filetypes=(('textfiles','txt'),('all files','*.*')))\n",
    "    print(result)\n",
    "    for c in result:\n",
    "        print (c)\n",
    "root=Tk()\n",
    "\n",
    "button=Button(root,text='openfile',command=open_file)\n",
    "button.pack()\n",
    "root.geometry('300x300')\n",
    "root.mainloop()"
   ]
  },
  {
   "cell_type": "code",
   "execution_count": 4,
   "metadata": {},
   "outputs": [],
   "source": [
    "from tkinter import *\n",
    "from tkinter import filedialog\n",
    "\n",
    "def save_file():\n",
    "    f=filedialog.asksaveasfile(mode='w',defaultextension='.txt')\n",
    "    if f is None:\n",
    "        return\n",
    "    f.write('hello how are you')\n",
    "    f.close()\n",
    "\n",
    "root=Tk()\n",
    "button=Button(root,text='save as',command=save_file)\n",
    "button.pack()\n",
    "\n",
    "root.geometry('300x300')\n",
    "root.mainloop()"
   ]
  },
  {
   "cell_type": "code",
   "execution_count": null,
   "metadata": {},
   "outputs": [],
   "source": []
  }
 ],
 "metadata": {
  "kernelspec": {
   "display_name": "Python 3",
   "language": "python",
   "name": "python3"
  },
  "language_info": {
   "codemirror_mode": {
    "name": "ipython",
    "version": 3
   },
   "file_extension": ".py",
   "mimetype": "text/x-python",
   "name": "python",
   "nbconvert_exporter": "python",
   "pygments_lexer": "ipython3",
   "version": "3.8.5"
  }
 },
 "nbformat": 4,
 "nbformat_minor": 4
}
