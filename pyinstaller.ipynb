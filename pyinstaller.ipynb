{
 "cells": [
  {
   "cell_type": "code",
   "execution_count": 1,
   "metadata": {},
   "outputs": [
    {
     "name": "stdout",
     "output_type": "stream",
     "text": [
      "Collecting pyinstaller\n",
      "  Downloading pyinstaller-4.2.tar.gz (3.6 MB)\n",
      "  Installing build dependencies: started\n",
      "  Installing build dependencies: finished with status 'done'\n",
      "  Getting requirements to build wheel: started\n",
      "  Getting requirements to build wheel: finished with status 'done'\n",
      "    Preparing wheel metadata: started\n",
      "    Preparing wheel metadata: finished with status 'done'\n",
      "Requirement already satisfied: pywin32-ctypes>=0.2.0; sys_platform == \"win32\" in c:\\users\\lenovo\\anaconda3\\lib\\site-packages (from pyinstaller) (0.2.0)\n",
      "Collecting pyinstaller-hooks-contrib>=2020.6\n",
      "  Downloading pyinstaller_hooks_contrib-2021.1-py2.py3-none-any.whl (181 kB)\n",
      "Collecting altgraph\n",
      "  Downloading altgraph-0.17-py2.py3-none-any.whl (21 kB)\n",
      "Collecting pefile>=2017.8.1; sys_platform == \"win32\"\n",
      "  Downloading pefile-2019.4.18.tar.gz (62 kB)\n",
      "Requirement already satisfied: setuptools in c:\\users\\lenovo\\anaconda3\\lib\\site-packages (from pyinstaller) (50.3.1.post20201107)\n",
      "Requirement already satisfied: future in c:\\users\\lenovo\\anaconda3\\lib\\site-packages (from pefile>=2017.8.1; sys_platform == \"win32\"->pyinstaller) (0.18.2)\n",
      "Building wheels for collected packages: pyinstaller, pefile\n",
      "  Building wheel for pyinstaller (PEP 517): started\n",
      "  Building wheel for pyinstaller (PEP 517): finished with status 'done'\n",
      "  Created wheel for pyinstaller: filename=pyinstaller-4.2-py3-none-any.whl size=2413076 sha256=279c4d671d5ab6f34bc5c7cbc0b9d719acdd98f3eaac74393a6913939309172c\n",
      "  Stored in directory: c:\\users\\lenovo\\appdata\\local\\pip\\cache\\wheels\\65\\6f\\54\\0f682e8590de992d07a17ce07282267734cb150e537dfc4390\n",
      "  Building wheel for pefile (setup.py): started\n",
      "  Building wheel for pefile (setup.py): finished with status 'done'\n",
      "  Created wheel for pefile: filename=pefile-2019.4.18-py3-none-any.whl size=60828 sha256=ec96f2bf4150defe99cf7a4472d7b068a903cfe93ea0380dda0230ee61481cf9\n",
      "  Stored in directory: c:\\users\\lenovo\\appdata\\local\\pip\\cache\\wheels\\42\\52\\d5\\9550bbfb9eeceaf0f19db1cf651cc8ba41d3bcf8b4d20e4279\n",
      "Successfully built pyinstaller pefile\n",
      "Installing collected packages: pyinstaller-hooks-contrib, altgraph, pefile, pyinstaller\n",
      "Successfully installed altgraph-0.17 pefile-2019.4.18 pyinstaller-4.2 pyinstaller-hooks-contrib-2021.1\n",
      "Note: you may need to restart the kernel to use updated packages.\n"
     ]
    }
   ],
   "source": [
    "pip install pyinstaller"
   ]
  },
  {
   "cell_type": "code",
   "execution_count": null,
   "metadata": {},
   "outputs": [],
   "source": []
  }
 ],
 "metadata": {
  "kernelspec": {
   "display_name": "Python 3",
   "language": "python",
   "name": "python3"
  },
  "language_info": {
   "codemirror_mode": {
    "name": "ipython",
    "version": 3
   },
   "file_extension": ".py",
   "mimetype": "text/x-python",
   "name": "python",
   "nbconvert_exporter": "python",
   "pygments_lexer": "ipython3",
   "version": "3.8.5"
  }
 },
 "nbformat": 4,
 "nbformat_minor": 4
}
