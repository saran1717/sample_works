{
 "cells": [
  {
   "cell_type": "code",
   "execution_count": 4,
   "metadata": {},
   "outputs": [
    {
     "ename": "ModuleNotFoundError",
     "evalue": "No module named 'mypeople'",
     "output_type": "error",
     "traceback": [
      "\u001b[1;31m---------------------------------------------------------------------------\u001b[0m",
      "\u001b[1;31mModuleNotFoundError\u001b[0m                       Traceback (most recent call last)",
      "\u001b[1;32m<ipython-input-4-1ab16c0324c2>\u001b[0m in \u001b[0;36m<module>\u001b[1;34m\u001b[0m\n\u001b[0;32m      1\u001b[0m \u001b[1;32mfrom\u001b[0m \u001b[0mtkinter\u001b[0m \u001b[1;32mimport\u001b[0m \u001b[1;33m*\u001b[0m\u001b[1;33m\u001b[0m\u001b[1;33m\u001b[0m\u001b[0m\n\u001b[0;32m      2\u001b[0m \u001b[1;32mimport\u001b[0m \u001b[0mdatetime\u001b[0m\u001b[1;33m\u001b[0m\u001b[1;33m\u001b[0m\u001b[0m\n\u001b[1;32m----> 3\u001b[1;33m \u001b[1;32mfrom\u001b[0m \u001b[0mmypeople\u001b[0m \u001b[1;32mimport\u001b[0m \u001b[0mMypeople\u001b[0m\u001b[1;33m\u001b[0m\u001b[1;33m\u001b[0m\u001b[0m\n\u001b[0m\u001b[0;32m      4\u001b[0m \u001b[1;33m\u001b[0m\u001b[0m\n\u001b[0;32m      5\u001b[0m \u001b[1;32mclass\u001b[0m \u001b[0mApplication\u001b[0m\u001b[1;33m(\u001b[0m\u001b[0mobject\u001b[0m\u001b[1;33m)\u001b[0m\u001b[1;33m:\u001b[0m\u001b[1;33m\u001b[0m\u001b[1;33m\u001b[0m\u001b[0m\n",
      "\u001b[1;31mModuleNotFoundError\u001b[0m: No module named 'mypeople'"
     ]
    }
   ],
   "source": [
    "from tkinter import *\n",
    "import datetime\n",
    "from mypeople import Mypeople\n",
    "\n",
    "class Application(object):\n",
    "    def __init__(self,master):\n",
    "        self.master=master\n",
    "        \n",
    "        #frames\n",
    "        self.top=Frame(master,height=150,bg='white')\n",
    "        self.top.pack(fill=X)\n",
    "        \n",
    "        self.bottom=Frame(master,height=500,bg='#516b6a')\n",
    "        self.bottom.pack(fill=X)\n",
    "        \n",
    "        #topframe design\n",
    "        \n",
    "        #button1 viewpeople\n",
    "        self.viewButton=Button(self.bottom,text='My people',fg='blue',font='arial 12 bold',command=self.mypeople)\n",
    "        self.viewButton.place(x=250,y=70)                       \n",
    "        \n",
    "        #button2 viewpeople\n",
    "        self.addButton=Button(self.bottom,text='Add people',font='arial 12 bold')\n",
    "        self.addButton.place(x=250,y=110) \n",
    "        \n",
    "        #button2 viewpeople\n",
    "        self.aboutButton=Button(self.bottom,text='About us',font='arial 12 bold')\n",
    "        self.aboutButton.place(x=250,y=150) \n",
    "        \n",
    "    def my_people(self):\n",
    "        people=Mypeople()\n",
    "        \n",
    "                \n",
    "def main():\n",
    "    root=Tk()\n",
    "    app=Application(root)\n",
    "    root.title('Phonebook App')\n",
    "    root.geometry('450x350+250+150')\n",
    "    root.resizable(False,False)\n",
    "    root.mainloop()\n",
    "\n",
    "if __name__=='__main__':\n",
    "    main()"
   ]
  },
  {
   "cell_type": "code",
   "execution_count": null,
   "metadata": {},
   "outputs": [],
   "source": []
  }
 ],
 "metadata": {
  "kernelspec": {
   "display_name": "Python 3",
   "language": "python",
   "name": "python3"
  },
  "language_info": {
   "codemirror_mode": {
    "name": "ipython",
    "version": 3
   },
   "file_extension": ".py",
   "mimetype": "text/x-python",
   "name": "python",
   "nbconvert_exporter": "python",
   "pygments_lexer": "ipython3",
   "version": "3.8.5"
  }
 },
 "nbformat": 4,
 "nbformat_minor": 4
}
