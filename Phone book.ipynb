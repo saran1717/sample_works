{
 "cells": [
  {
   "cell_type": "code",
   "execution_count": 1,
   "metadata": {},
   "outputs": [],
   "source": [
    "from tkinter import *\n",
    "\n",
    "class Application(object):\n",
    "    def __init__(self,master):\n",
    "        self.master=master\n",
    "        \n",
    "        #frames\n",
    "        self.top=Frame(master,height=150,bg='white')\n",
    "        self.top.pack(fill=X)\n",
    "        \n",
    "        self.bottom=Frame(master,height=500,bg='#516b6a')\n",
    "        self.bottom.pack(fill=X)\n",
    "        \n",
    "def main():\n",
    "    root=Tk()\n",
    "    app=Application(root)\n",
    "    root.title('Phonebook App')\n",
    "    root.geometry('450x350+250+150')\n",
    "    root.resizable(False,False)\n",
    "    root.mainloop()\n",
    "\n",
    "if __name__=='__main__':\n",
    "    main()"
   ]
  },
  {
   "cell_type": "code",
   "execution_count": null,
   "metadata": {},
   "outputs": [],
   "source": []
  }
 ],
 "metadata": {
  "kernelspec": {
   "display_name": "Python 3",
   "language": "python",
   "name": "python3"
  },
  "language_info": {
   "codemirror_mode": {
    "name": "ipython",
    "version": 3
   },
   "file_extension": ".py",
   "mimetype": "text/x-python",
   "name": "python",
   "nbconvert_exporter": "python",
   "pygments_lexer": "ipython3",
   "version": "3.8.5"
  }
 },
 "nbformat": 4,
 "nbformat_minor": 4
}
