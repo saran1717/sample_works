{
 "cells": [
  {
   "cell_type": "code",
   "execution_count": 3,
   "metadata": {},
   "outputs": [],
   "source": [
    "from tkinter import *\n",
    "\n",
    "root=Tk()\n",
    "\n",
    "label1=Label(root,text='Label 1')\n",
    "label2=Label(root,text='label 2')\n",
    "label1.place(x=10,y=10)\n",
    "label2.place(x=10,y=30)\n",
    "\n",
    "root.geometry('300x300+120+120')\n",
    "root.mainloop()"
   ]
  },
  {
   "cell_type": "code",
   "execution_count": 10,
   "metadata": {},
   "outputs": [
    {
     "name": "stdout",
     "output_type": "stream",
     "text": [
      "fail\n"
     ]
    }
   ],
   "source": [
    "from tkinter import *\n",
    "def click_me():\n",
    "    s=entry.get()\n",
    "    if(s=='saran'):\n",
    "        print('pass')\n",
    "    else:\n",
    "        print('fail')\n",
    "\n",
    "root=Tk()\n",
    "entry=Entry(root)\n",
    "entry.pack()\n",
    "\n",
    "button=Button(root,text='click',command=click_me)\n",
    "button.pack()\n",
    "root.geometry('300x300+120+120')\n",
    "root.mainloop()"
   ]
  },
  {
   "cell_type": "code",
   "execution_count": 13,
   "metadata": {},
   "outputs": [
    {
     "name": "stdout",
     "output_type": "stream",
     "text": [
      "HAI\n",
      "HAI\n"
     ]
    }
   ],
   "source": [
    "from tkinter import *\n",
    "\n",
    "def click_me():\n",
    "    sl=s.get()\n",
    "    print(sl)\n",
    " \n",
    "root=Tk()\n",
    "s=StringVar()\n",
    "entry=Entry(root,textvariable=s)\n",
    "s.set('welcome')\n",
    "\n",
    "entry.pack()\n",
    "\n",
    "button=Button(root,text='click',command=click_me)\n",
    "button.pack()\n",
    "root.geometry('300x300+120+120')\n",
    "root.mainloop()"
   ]
  },
  {
   "cell_type": "code",
   "execution_count": null,
   "metadata": {},
   "outputs": [],
   "source": []
  }
 ],
 "metadata": {
  "kernelspec": {
   "display_name": "Python 3",
   "language": "python",
   "name": "python3"
  },
  "language_info": {
   "codemirror_mode": {
    "name": "ipython",
    "version": 3
   },
   "file_extension": ".py",
   "mimetype": "text/x-python",
   "name": "python",
   "nbconvert_exporter": "python",
   "pygments_lexer": "ipython3",
   "version": "3.8.5"
  }
 },
 "nbformat": 4,
 "nbformat_minor": 4
}
