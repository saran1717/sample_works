{
 "cells": [
  {
   "cell_type": "code",
   "execution_count": 26,
   "metadata": {},
   "outputs": [],
   "source": [
    "from tkinter import *\n",
    "root=Tk()\n",
    "frame=Frame(root,width=400,height=400)\n",
    "button1=Button(frame,text='button1')\n",
    "button2=Button(frame,text='button2')\n",
    "button3=Button(frame,text='button3')\n",
    "button1.pack(side=LEFT)\n",
    "button2.pack(side=LEFT)\n",
    "button3.pack(side=LEFT)\n",
    "frame.pack()\n",
    "\n",
    "bottomFrame=Frame(root)\n",
    "button4=Button(bottomFrame,text='good')\n",
    "button4.pack()\n",
    "bottomFrame.pack(side=BOTTOM)\n",
    "\n",
    "root.mainloop()\n",
    "\n"
   ]
  },
  {
   "cell_type": "code",
   "execution_count": null,
   "metadata": {},
   "outputs": [],
   "source": []
  }
 ],
 "metadata": {
  "kernelspec": {
   "display_name": "Python 3",
   "language": "python",
   "name": "python3"
  },
  "language_info": {
   "codemirror_mode": {
    "name": "ipython",
    "version": 3
   },
   "file_extension": ".py",
   "mimetype": "text/x-python",
   "name": "python",
   "nbconvert_exporter": "python",
   "pygments_lexer": "ipython3",
   "version": "3.8.5"
  }
 },
 "nbformat": 4,
 "nbformat_minor": 4
}
