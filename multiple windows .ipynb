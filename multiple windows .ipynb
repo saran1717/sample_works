{
 "cells": [
  {
   "cell_type": "code",
   "execution_count": 8,
   "metadata": {},
   "outputs": [],
   "source": [
    "from tkinter import *\n",
    "\n",
    "def open_window():\n",
    "    top=Toplevel()\n",
    "    top.title('top window')\n",
    "    top.geometry('300x300+150+150')\n",
    "    button1=Button(top,text='close',command=top.destroy)\n",
    "    button1.pack()\n",
    "    \n",
    "\n",
    "root=Tk()\n",
    "button=Button(root,text='open window',command=open_window)\n",
    "button.pack()\n",
    "\n",
    "root.geometry('300x300+150+150')\n",
    "root.mainloop()"
   ]
  },
  {
   "cell_type": "code",
   "execution_count": 12,
   "metadata": {},
   "outputs": [
    {
     "name": "stdout",
     "output_type": "stream",
     "text": [
      "5\n",
      "5\n"
     ]
    }
   ],
   "source": [
    "from tkinter import *\n",
    "\n",
    "def click_me():\n",
    "    print(spin1.get())\n",
    "root=Tk()\n",
    "\n",
    "spin1=Spinbox(root,from_=1,to=5)\n",
    "spin1.pack()\n",
    "\n",
    "button=Button(root,text='print',command=click_me)\n",
    "button.pack()\n",
    "\n",
    "root.geometry('300x300')\n",
    "root.mainloop()"
   ]
  },
  {
   "cell_type": "code",
   "execution_count": 18,
   "metadata": {},
   "outputs": [],
   "source": [
    "from tkinter import *\n",
    "\n",
    "root=Tk()\n",
    "\n",
    "frame=LabelFrame(root,text='Input',padx=5,pady=5)\n",
    "entry=Entry(frame)\n",
    "entry.pack()\n",
    "\n",
    "frame.pack()\n",
    "\n",
    "\n",
    "\n",
    "root.geometry('300x300')\n",
    "root.mainloop()"
   ]
  },
  {
   "cell_type": "code",
   "execution_count": 24,
   "metadata": {},
   "outputs": [
    {
     "name": "stdout",
     "output_type": "stream",
     "text": [
      "<_io.TextIOWrapper name='C:/Users/Lenovo/Documents/20190908_024407.jpg' mode='r' encoding='cp1252'>\n"
     ]
    },
    {
     "name": "stderr",
     "output_type": "stream",
     "text": [
      "Exception in Tkinter callback\n",
      "Traceback (most recent call last):\n",
      "  File \"C:\\Users\\Lenovo\\anaconda3\\lib\\tkinter\\__init__.py\", line 1883, in __call__\n",
      "    return self.func(*args)\n",
      "  File \"<ipython-input-24-2ba13a9e4362>\", line 6, in open_file\n",
      "    for c in result:\n",
      "  File \"C:\\Users\\Lenovo\\anaconda3\\lib\\encodings\\cp1252.py\", line 23, in decode\n",
      "    return codecs.charmap_decode(input,self.errors,decoding_table)[0]\n",
      "UnicodeDecodeError: 'charmap' codec can't decode byte 0x9d in position 252: character maps to <undefined>\n"
     ]
    }
   ],
   "source": []
  },
  {
   "cell_type": "code",
   "execution_count": null,
   "metadata": {},
   "outputs": [],
   "source": []
  }
 ],
 "metadata": {
  "kernelspec": {
   "display_name": "Python 3",
   "language": "python",
   "name": "python3"
  },
  "language_info": {
   "codemirror_mode": {
    "name": "ipython",
    "version": 3
   },
   "file_extension": ".py",
   "mimetype": "text/x-python",
   "name": "python",
   "nbconvert_exporter": "python",
   "pygments_lexer": "ipython3",
   "version": "3.8.5"
  }
 },
 "nbformat": 4,
 "nbformat_minor": 4
}
