{
 "cells": [
  {
   "cell_type": "code",
   "execution_count": 1,
   "metadata": {},
   "outputs": [
    {
     "name": "stdout",
     "output_type": "stream",
     "text": [
      "()\n",
      "()\n"
     ]
    }
   ],
   "source": [
    "from tkinter import *\n",
    "\n",
    "def print_me():\n",
    "    clicked_items=l.curselection()\n",
    "    print(clicked_items)\n",
    "    for item in clicked_items:\n",
    "        print(l.get(item))\n",
    "        \n",
    "        \n",
    "def delete_me():\n",
    "    clicked_items=l.curselection()\n",
    "    \n",
    "    for item in clicked_items:\n",
    "        print(l.delete(item))\n",
    "\n",
    "root=Tk()\n",
    "    \n",
    "l=Listbox(root,width=20,height=15,selectmode=SINGLE)\n",
    "l.insert(1,'C++')\n",
    "l.insert(2,'Java')\n",
    "l.insert(3,'python')\n",
    "l.pack()\n",
    "\n",
    "button=Button(root,text='print',command=print_me)\n",
    "button.pack()\n",
    "button_delete=Button(root,text='delete',command=delete_me).pack()\n",
    "\n",
    "root.geometry('300x300+150+150')\n",
    "root.mainloop()"
   ]
  },
  {
   "cell_type": "code",
   "execution_count": null,
   "metadata": {},
   "outputs": [],
   "source": []
  }
 ],
 "metadata": {
  "kernelspec": {
   "display_name": "Python 3",
   "language": "python",
   "name": "python3"
  },
  "language_info": {
   "codemirror_mode": {
    "name": "ipython",
    "version": 3
   },
   "file_extension": ".py",
   "mimetype": "text/x-python",
   "name": "python",
   "nbconvert_exporter": "python",
   "pygments_lexer": "ipython3",
   "version": "3.8.5"
  }
 },
 "nbformat": 4,
 "nbformat_minor": 4
}
