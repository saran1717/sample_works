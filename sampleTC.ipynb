{
 "cells": [
  {
   "cell_type": "code",
   "execution_count": null,
   "metadata": {},
   "outputs": [],
   "source": [
    "import pandas as pd\n",
    "import op\n",
    "from tqdm import tqdm\n",
    "import matplotlib.pyplot as plt\n",
    "import datetime\n",
    "data=op.getting_files()\n",
    "data= list(data)\n",
    "l=len(data)\n",
    "'''TC data'''\n",
    "for i in tqdm(range(l)):\n",
    "    f=data[i]\n",
    "    df=pd.read_excel(f,sheet_name='CH9 + SerialNumberPanasonic ',names=['Time','Voltage','current','power','temp','amb_temp','test_status','test_progress'])\n",
    "    df2=df[['Time','current','temp','test_progress']]\n",
    "    df2=df2[df2['current']!=0]\n",
    "    op.append_df_to_excel('TC_round3_data_compiled.xlsx',df2,index=False,sheet_name='MCIND_20-21_0105')\n",
    "dp = pd.read_excel('TC_round3_data_compiled.xlsx',sheet_name='MCIND_20-21_0105')\n",
    "dp.index=pd.to_datetime(dp['Time'])\n",
    "dp.drop(columns=['Time'],inplace=True)\n",
    "dp2=dp.resample('5min').mean()\n",
    "Day=14\n",
    "Month=5\n",
    "Year=2021\n",
    "dp2=dp2[(dp2.index>datetime.datetime(Year,Month,Day))]\n",
    "'''TC plot'''\n",
    "fig,ax1=plt.subplots(1,1,figsize=(50,30))\n",
    "ax2=ax1.twinx()\n",
    "ax1.set_title('TC test', fontsize=80)\n",
    "ax1.set_xlabel('Time',fontsize=60)\n",
    "ax1.set_ylabel('Current (A)',color='tab:blue',fontsize=60)\n",
    "ax2.set_ylabel('Temperature (°C)',color='tab:red',fontsize=60)\n",
    "ax1.tick_params(axis='x',labelsize=40)\n",
    "ax1.tick_params(axis='y',labelsize=40)\n",
    "ax2.tick_params(axis='y',rotation=0,labelsize=40)\n",
    "ax1.plot(dp2.index,dp2['current'],linewidth=5)\n",
    "ax2.plot(dp2.index,dp2['temp'],linewidth=5,color='tab:red')\n",
    "plt.tight_layout()\n",
    "plt.savefig('Path4 TC test Round2 (200 cycles)plot1.jpeg',dpi=100)\n",
    "plt.show()"
   ]
  }
 ],
 "metadata": {
  "kernelspec": {
   "display_name": "Python 3",
   "language": "python",
   "name": "python3"
  },
  "language_info": {
   "codemirror_mode": {
    "name": "ipython",
    "version": 3
   },
   "file_extension": ".py",
   "mimetype": "text/x-python",
   "name": "python",
   "nbconvert_exporter": "python",
   "pygments_lexer": "ipython3",
   "version": "3.8.5"
  }
 },
 "nbformat": 4,
 "nbformat_minor": 4
}
