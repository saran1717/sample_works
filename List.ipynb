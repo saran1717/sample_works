{
 "cells": [
  {
   "cell_type": "code",
   "execution_count": 3,
   "metadata": {},
   "outputs": [],
   "source": [
    "from tkinter import *\n",
    "top=Tk()\n",
    "Lb=Listbox(top)\n",
    "Lb.insert(1,'apple')\n",
    "Lb.insert(2,'mango')\n",
    "Lb.insert(3,'orange')\n",
    "Lb.pack()\n",
    "top.mainloop()"
   ]
  },
  {
   "cell_type": "code",
   "execution_count": 7,
   "metadata": {},
   "outputs": [],
   "source": [
    "w=Tk()\n",
    "frame=Frame(w)\n",
    "frame.pack()\n",
    "redbutton=Button(frame,text='Red',fg='red')\n",
    "redbutton.pack(side=LEFT)\n",
    "brownbutton=Button(frame,text='Brown',fg='brown')\n",
    "brownbutton.pack(side=LEFT)\n",
    "bluebutton=Button(frame,text='Blue',fg='blue')\n",
    "bluebutton.pack(side=LEFT)\n",
    "w.mainloop()"
   ]
  },
  {
   "cell_type": "code",
   "execution_count": null,
   "metadata": {},
   "outputs": [],
   "source": []
  }
 ],
 "metadata": {
  "kernelspec": {
   "display_name": "Python 3",
   "language": "python",
   "name": "python3"
  },
  "language_info": {
   "codemirror_mode": {
    "name": "ipython",
    "version": 3
   },
   "file_extension": ".py",
   "mimetype": "text/x-python",
   "name": "python",
   "nbconvert_exporter": "python",
   "pygments_lexer": "ipython3",
   "version": "3.8.5"
  }
 },
 "nbformat": 4,
 "nbformat_minor": 4
}
